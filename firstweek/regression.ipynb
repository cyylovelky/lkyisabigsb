{
 "cells": [
  {
   "cell_type": "code",
   "execution_count": 2,
   "metadata": {},
   "outputs": [],
   "source": [
    "import pandas as pd"
   ]
  },
  {
   "cell_type": "code",
   "execution_count": 12,
   "metadata": {},
   "outputs": [
    {
     "data": {
      "text/plain": [
       "(         SGD\n",
       " 0    1.38925\n",
       " 1    1.38707\n",
       " 2    1.38324\n",
       " 3    1.38378\n",
       " 4    1.37595\n",
       " ..       ...\n",
       " 117  1.44655\n",
       " 118  1.44814\n",
       " 119  1.45018\n",
       " 120  1.44954\n",
       " 121  1.44766\n",
       " \n",
       " [122 rows x 1 columns],\n",
       "        DBS\n",
       " 0    20.45\n",
       " 1    20.60\n",
       " 2    20.45\n",
       " 3    20.41\n",
       " 4    20.59\n",
       " ..     ...\n",
       " 117  17.09\n",
       " 118  17.13\n",
       " 119  17.22\n",
       " 120  17.19\n",
       " 121  17.14\n",
       " \n",
       " [122 rows x 1 columns],\n",
       " (122, 1))"
      ]
     },
     "execution_count": 12,
     "metadata": {},
     "output_type": "execute_result"
    }
   ],
   "source": [
    "df=pd.read_csv(\"DBS_SingDollar.csv\")\n",
    "X=df.loc[:,[\"SGD\"]]\n",
    "Y=df.loc[:,[\"DBS\"]]\n",
    "X,Y,X.shape\n"
   ]
  },
  {
   "cell_type": "code",
   "execution_count": 4,
   "metadata": {},
   "outputs": [],
   "source": [
    "from sklearn import linear_model"
   ]
  },
  {
   "cell_type": "code",
   "execution_count": 5,
   "metadata": {},
   "outputs": [
    {
     "data": {
      "text/plain": [
       "LinearRegression()"
      ]
     },
     "execution_count": 5,
     "metadata": {},
     "output_type": "execute_result"
    }
   ],
   "source": [
    "model=linear_model.LinearRegression()\n",
    "model.fit(X,Y)\n"
   ]
  },
  {
   "cell_type": "code",
   "execution_count": 6,
   "metadata": {},
   "outputs": [
    {
     "data": {
      "text/plain": [
       "['regression']"
      ]
     },
     "execution_count": 6,
     "metadata": {},
     "output_type": "execute_result"
    }
   ],
   "source": [
    "import joblib\n",
    "joblib.dump(model,\"regression\")\n"
   ]
  },
  {
   "cell_type": "code",
   "execution_count": 16,
   "metadata": {},
   "outputs": [
    {
     "data": {
      "text/plain": [
       "(122, 1)"
      ]
     },
     "execution_count": 16,
     "metadata": {},
     "output_type": "execute_result"
    }
   ],
   "source": [
    "pred=model.predict(X)\n",
    "X.shape\n"
   ]
  },
  {
   "cell_type": "code",
   "execution_count": 8,
   "metadata": {},
   "outputs": [
    {
     "name": "stdout",
     "output_type": "stream",
     "text": [
      "0.6283698867042165\n",
      "[[19.93122506]\n",
      " [20.04153512]\n",
      " [20.23533673]\n",
      " [20.20801222]\n",
      " [20.6042176 ]\n",
      " [20.31225016]\n",
      " [20.18473578]\n",
      " [20.196374  ]\n",
      " [20.26266124]\n",
      " [20.30466002]\n",
      " [20.43723449]\n",
      " [20.3198403 ]\n",
      " [20.3466588 ]\n",
      " [20.06885962]\n",
      " [20.23736076]\n",
      " [20.13109878]\n",
      " [20.06278751]\n",
      " [20.36335711]\n",
      " [20.0784738 ]\n",
      " [20.17107353]\n",
      " [19.8958044 ]\n",
      " [20.07442573]\n",
      " [20.13464085]\n",
      " [19.74298955]\n",
      " [19.90288853]\n",
      " [19.65342588]\n",
      " [19.51427329]\n",
      " [19.18789721]\n",
      " [19.00978189]\n",
      " [18.81648629]\n",
      " [19.08163523]\n",
      " [19.13628424]\n",
      " [19.35235027]\n",
      " [19.52692353]\n",
      " [19.70149678]\n",
      " [19.51933338]\n",
      " [19.53400766]\n",
      " [19.59068071]\n",
      " [19.68479847]\n",
      " [19.76120589]\n",
      " [19.56183818]\n",
      " [19.50263507]\n",
      " [19.47784061]\n",
      " [19.59776485]\n",
      " [19.49150286]\n",
      " [19.48897282]\n",
      " [19.56285019]\n",
      " [19.18283711]\n",
      " [19.1443804 ]\n",
      " [19.14741645]\n",
      " [19.28049693]\n",
      " [19.35336229]\n",
      " [19.47986465]\n",
      " [19.53400766]\n",
      " [19.56993433]\n",
      " [19.5041531 ]\n",
      " [19.68732851]\n",
      " [19.55070597]\n",
      " [19.69238861]\n",
      " [19.44545601]\n",
      " [19.40244521]\n",
      " [19.4611423 ]\n",
      " [19.42066154]\n",
      " [19.54513986]\n",
      " [19.28555703]\n",
      " [19.32603778]\n",
      " [19.27391881]\n",
      " [18.58169791]\n",
      " [18.63988899]\n",
      " [18.79371586]\n",
      " [18.30845282]\n",
      " [18.4951703 ]\n",
      " [18.81294422]\n",
      " [18.76234328]\n",
      " [18.86253314]\n",
      " [18.77347548]\n",
      " [18.92831437]\n",
      " [19.13426021]\n",
      " [19.17018688]\n",
      " [19.16107871]\n",
      " [19.00117973]\n",
      " [18.71781445]\n",
      " [18.35247564]\n",
      " [18.47999001]\n",
      " [18.425341  ]\n",
      " [18.54779528]\n",
      " [18.42281095]\n",
      " [18.37777611]\n",
      " [18.16474614]\n",
      " [18.34589751]\n",
      " [18.34184944]\n",
      " [18.5437472 ]\n",
      " [18.44760541]\n",
      " [18.92325427]\n",
      " [19.00978189]\n",
      " [18.81142619]\n",
      " [18.75778919]\n",
      " [18.90453193]\n",
      " [17.77916695]\n",
      " [18.07720651]\n",
      " [18.7370428 ]\n",
      " [18.31604296]\n",
      " [18.57866185]\n",
      " [18.01850941]\n",
      " [18.06354425]\n",
      " [17.9319818 ]\n",
      " [18.57714382]\n",
      " [17.85405635]\n",
      " [18.07568848]\n",
      " [18.0068712 ]\n",
      " [18.03217167]\n",
      " [17.53830646]\n",
      " [17.60155764]\n",
      " [17.39459979]\n",
      " [17.94665607]\n",
      " [17.39257575]\n",
      " [16.86126585]\n",
      " [17.03179102]\n",
      " [16.95133553]\n",
      " [16.8481096 ]\n",
      " [16.88049421]\n",
      " [16.97562398]]\n"
     ]
    },
    {
     "data": {
      "text/plain": [
       "(array([[-50.60094302]]), array([90.22858515]))"
      ]
     },
     "execution_count": 8,
     "metadata": {},
     "output_type": "execute_result"
    }
   ],
   "source": [
    "from sklearn.metrics import mean_squared_error\n",
    "rmse=mean_squared_error(Y,pred)**0.5\n",
    "print(rmse)\n",
    "print(pred)\n",
    "model.coef_,model.intercept_"
   ]
  },
  {
   "cell_type": "code",
   "execution_count": 9,
   "metadata": {},
   "outputs": [
    {
     "data": {
      "text/plain": [
       "DecisionTreeRegressor()"
      ]
     },
     "execution_count": 9,
     "metadata": {},
     "output_type": "execute_result"
    }
   ],
   "source": [
    "from sklearn import tree\n",
    "model=tree.DecisionTreeRegressor()\n",
    "model.fit(X,Y)\n",
    "model"
   ]
  },
  {
   "cell_type": "code",
   "execution_count": 10,
   "metadata": {},
   "outputs": [
    {
     "name": "stdout",
     "output_type": "stream",
     "text": [
      "[20.45  20.6   20.45  20.41  20.59  20.78  20.59  20.72  20.47  20.43\n",
      " 20.49  20.49  20.48  20.65  20.47  20.6   20.84  20.8   21.04  21.\n",
      " 21.    20.86  20.7   20.63  20.8   20.65  20.77  20.68  19.66  20.5\n",
      " 20.3   20.42  20.45  20.53  19.57  19.07  19.025 19.03  18.92  18.73\n",
      " 18.5   18.64  18.52  18.65  18.63  18.82  18.97  18.88  18.85  18.78\n",
      " 18.85  18.93  18.95  19.025 19.12  19.02  19.01  18.75  18.43  18.52\n",
      " 18.38  18.4   18.73  18.74  18.86  18.84  18.85  18.91  18.83  18.66\n",
      " 18.67  19.    18.82  18.79  18.74  18.76  18.55  18.46  18.54  18.6\n",
      " 18.62  18.48  18.19  18.23  18.33  18.27  17.97  18.    18.64  18.7\n",
      " 18.55  18.53  18.59  18.66  19.66  18.51  18.61  18.7   18.89  18.76\n",
      " 18.58  18.39  18.08  18.01  18.02  17.94  18.09  18.06  18.05  17.86\n",
      " 17.78  17.73  17.59  17.42  17.54  17.27  17.07  17.09  17.13  17.22\n",
      " 17.19  17.14 ]\n",
      "0.16306113708124784\n"
     ]
    },
    {
     "data": {
      "text/plain": [
       "['decision tree']"
      ]
     },
     "execution_count": 10,
     "metadata": {},
     "output_type": "execute_result"
    }
   ],
   "source": [
    "pred=model.predict(X)\n",
    "rmse=mean_squared_error(Y,pred)**0.5\n",
    "print(pred)\n",
    "print(rmse)\n",
    "joblib.dump(model,\"decision tree\")\n"
   ]
  },
  {
   "cell_type": "markdown",
   "metadata": {},
   "source": []
  }
 ],
 "metadata": {
  "kernelspec": {
   "display_name": "Python 3.9.12 ('base')",
   "language": "python",
   "name": "python3"
  },
  "language_info": {
   "codemirror_mode": {
    "name": "ipython",
    "version": 3
   },
   "file_extension": ".py",
   "mimetype": "text/x-python",
   "name": "python",
   "nbconvert_exporter": "python",
   "pygments_lexer": "ipython3",
   "version": "3.9.12"
  },
  "orig_nbformat": 4,
  "vscode": {
   "interpreter": {
    "hash": "f76d4fda128b12615e46e0e8dd834a222e7abd956eb53de74309670d1db4104c"
   }
  }
 },
 "nbformat": 4,
 "nbformat_minor": 2
}
